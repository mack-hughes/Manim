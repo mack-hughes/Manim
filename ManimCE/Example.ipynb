{
 "cells": [
  {
   "cell_type": "code",
   "execution_count": 60,
   "metadata": {},
   "outputs": [],
   "source": [
    "from manim import *\n",
    "config.media_width = \"100%\""
   ]
  },
  {
   "attachments": {},
   "cell_type": "markdown",
   "metadata": {},
   "source": [
    "In manim everything that display on screen is an object. We have VMobjects, ImageMobject, Group/VGroup"
   ]
  },
  {
   "attachments": {},
   "cell_type": "markdown",
   "metadata": {},
   "source": [
    "VMobjects: Bézier curve <br />\n",
    "ImageMobject: Pixal array <br />\n",
    "Group/VGroup: Container of objects"
   ]
  },
  {
   "attachments": {},
   "cell_type": "markdown",
   "metadata": {},
   "source": [
    "## Animation <br />\n",
    "#### Static animation <br />\n",
    "to add an object instantly: self.add(object) <br />\n",
    "to add a pause: self.wait(time) <br />\n",
    "to remove an object: self.remove(object)<br /><br />\n",
    "#### Fluid animation <br />\n",
    "self.play(<br />\n",
    "    Animation1(mob1, run_time=2, rate_function=linear)<br />\n",
    "    Animation2(mob2, run_time=3.14)<br />\n",
    "    Animation3(mob3)<br />\n",
    ")\n",
    "\n",
    "<br />\n",
    "\n",
    "And so on, we can find all the possibilities in the documantion https://docs.manim.community/en/stable/reference_index/animations.html"
   ]
  },
  {
   "cell_type": "code",
   "execution_count": 95,
   "metadata": {},
   "outputs": [
    {
     "name": "stderr",
     "output_type": "stream",
     "text": [
      "                                                                                                    \r"
     ]
    },
    {
     "data": {
      "text/html": [
       "<video src=\"media/jupyter/Remove_animation@2023-05-15@17-32-01.mp4\" controls autoplay loop style=\"max-width: 100%;\"  >\n",
       "      Your browser does not support the <code>video</code> element.\n",
       "    </video>"
      ],
      "text/plain": [
       "<IPython.core.display.Video object>"
      ]
     },
     "metadata": {},
     "output_type": "display_data"
    }
   ],
   "source": [
    "%%manim -v WARNING --disable_caching -qm Remove_animation\n",
    "\n",
    "class Static_animation(Scene):\n",
    "    def construct(self):\n",
    "        d = Dot()\n",
    "        c = Circle()\n",
    "        s = Square()\n",
    "        t = Text(\"Hello, world\")\n",
    "        \n",
    "        self.wait()\n",
    "        self.add(d)\n",
    "        self.wait()\n",
    "        self.add(c)\n",
    "        self.wait()\n",
    "        self.add(s)\n",
    "        self.wait()\n",
    "        \n",
    "        self.remove(d,c,s)\n",
    "        self.wait()\n",
    "        \n",
    "        \n",
    "        \n",
    "class Fluid_animation(Scene):\n",
    "    def construct(self):\n",
    "        self.play(\n",
    "            Write(Text(\"Hello, world\")),\n",
    "            Create(Circle()),\n",
    "            FadeIn(Square()),\n",
    "            GrowFromCenter(Triangle()),\n",
    "            run_time=4.5\n",
    "        )\n",
    "        \n",
    "        \n",
    "class Indication_animation(Scene):\n",
    "    def construct(self):\n",
    "        t = Text(\"Hello, world\")\n",
    "        c = Circle()\n",
    "        s = Square()\n",
    "        ti = Triangle()\n",
    "        \n",
    "        t.move_to([-3,0,0])\n",
    "        c.move_to([0,0,0])\n",
    "        s.move_to([2,0,0])\n",
    "        ti.move_to([4,0,0])\n",
    "        \n",
    "        self.wait()\n",
    "        self.add(t,c,s,ti)\n",
    "        self.wait()\n",
    "\n",
    "        self.play(\n",
    "            Indicate(t),\n",
    "            ApplyWave(c),\n",
    "            FocusOn(s),\n",
    "            Circumscribe(ti),\n",
    "            run_time=4.5\n",
    "        )\n",
    "        \n",
    "\n",
    "class Remove_animation(Scene):\n",
    "    def construct(self):\n",
    "        t = Text(\"Hello, world\")\n",
    "        c = Circle()\n",
    "        s = Square()\n",
    "        ti = Triangle()\n",
    "        \n",
    "        t.move_to([-3,0,0])\n",
    "        c.move_to([0,0,0])\n",
    "        s.move_to([2,0,0])\n",
    "        ti.move_to([4,0,0])\n",
    "        \n",
    "        self.wait()\n",
    "        self.add(t,c,s,ti)\n",
    "        self.wait()\n",
    "\n",
    "        self.play(\n",
    "            Unwrite(t),\n",
    "            Uncreate(c),\n",
    "            FadeOut(s),\n",
    "            ShrinkToCenter(ti),\n",
    "            run_time=4.5\n",
    "        )"
   ]
  },
  {
   "attachments": {},
   "cell_type": "markdown",
   "metadata": {},
   "source": [
    "## Position\n",
    "The dimentions of manim is 8[u] of height and 14.2[u] od width. The position of an elemente is defined in an ***absolute*** way or in a ***relative*** way. "
   ]
  },
  {
   "attachments": {},
   "cell_type": "markdown",
   "metadata": {},
   "source": [
    "### Absolute position:\n",
    ".move_to()<br />\n",
    ".to_edge()<br />\n",
    ".to_corner()"
   ]
  },
  {
   "cell_type": "code",
   "execution_count": 124,
   "metadata": {},
   "outputs": [
    {
     "name": "stderr",
     "output_type": "stream",
     "text": [
      "                                                                          \r"
     ]
    },
    {
     "data": {
      "text/html": [
       "<video src=\"media/jupyter/Absolute_position@2023-05-19@18-03-27.mp4\" controls autoplay loop style=\"max-width: 100%;\"  >\n",
       "      Your browser does not support the <code>video</code> element.\n",
       "    </video>"
      ],
      "text/plain": [
       "<IPython.core.display.Video object>"
      ]
     },
     "metadata": {},
     "output_type": "display_data"
    }
   ],
   "source": [
    "%%manim -v WARNING --disable_caching -qm Absolute_position\n",
    "\n",
    "class Absolute_position(Scene):\n",
    "    def construct(self):\n",
    "        c = Circle()\n",
    "        s = Square()\n",
    "        d = Dot()\n",
    "        \n",
    "        self.wait()\n",
    "        self.add(c, s, d)\n",
    "        self.wait()\n",
    "        \n",
    "        self.play(d.animate.move_to([4,2,0]))\n",
    "        self.wait()       \n",
    "        \n",
    "        d.move_to([2,2,0])\n",
    "        self.wait()\n",
    "        \n",
    "        s.move_to(LEFT*2+\n",
    "                  DOWN*2)\n",
    "        self.wait()\n",
    "        \n",
    "        c.move_to(d)\n",
    "        self.wait()\n",
    "        \n",
    "        s.to_edge(LEFT, buff=0.1)\n",
    "        self.wait()\n",
    "        \n",
    "        c.to_corner(UR, buff=0.1)\n",
    "        self.wait()\n",
    "\n",
    "        "
   ]
  },
  {
   "attachments": {},
   "cell_type": "markdown",
   "metadata": {},
   "source": [
    "### Relative position:\n",
    ".shift()<br />\n",
    ".next_to()<br />\n",
    ".align_to()"
   ]
  },
  {
   "cell_type": "code",
   "execution_count": 121,
   "metadata": {},
   "outputs": [
    {
     "data": {
      "text/html": [
       "<video src=\"media/jupyter/Absolute_position@2023-05-19@17-59-05.mp4\" controls autoplay loop style=\"max-width: 100%;\"  >\n",
       "      Your browser does not support the <code>video</code> element.\n",
       "    </video>"
      ],
      "text/plain": [
       "<IPython.core.display.Video object>"
      ]
     },
     "metadata": {},
     "output_type": "display_data"
    }
   ],
   "source": [
    "%%manim -v WARNING --disable_caching -qm Absolute_position\n",
    "\n",
    "class Absolute_position(Scene):\n",
    "    def construct(self):\n",
    "        c = Circle()\n",
    "        s = Square()\n",
    "        d = Dot()\n",
    "        \n",
    "        self.wait()\n",
    "        self.add(c, s, d)\n",
    "        self.wait()\n",
    "        \n",
    "        d.shift(RIGHT*2)\n",
    "        d.shift(UP*2)\n",
    "        self.wait()\n",
    "        \n",
    "        s.move_to(LEFT*2+\n",
    "                  DOWN*2)\n",
    "        self.wait()\n",
    "        \n",
    "        c.next_to(d, LEFT, buff=0.5)\n",
    "        self.wait()\n",
    "        \n",
    "        c.next_to(d, LEFT, aligned_edge=DOWN, buff=0.5)\n",
    "        self.wait()\n",
    "        \n",
    "        s.align_to(c, LEFT)\n",
    "        self.wait()\n",
    "        \n",
    "        s.align_to(DL, LEFT)\n",
    "        self.wait()\n"
   ]
  },
  {
   "attachments": {},
   "cell_type": "markdown",
   "metadata": {},
   "source": [
    "### Transformations of Width, height, scale and rotation\n",
    "<img src=\"./Attachments/Screenshot 2023-05-20 at 13.56.52.png\"/>\n",
    "<br />\n",
    "\n",
    "It is important to remember that the center of point is always the rectangular center"
   ]
  },
  {
   "cell_type": "code",
   "execution_count": 148,
   "metadata": {},
   "outputs": [
    {
     "name": "stderr",
     "output_type": "stream",
     "text": [
      "                                                                                           \r"
     ]
    },
    {
     "name": "stdout",
     "output_type": "stream",
     "text": [
      "[-2.  -1.5  0. ]\n",
      "[-2.  -1.5  0. ]\n"
     ]
    },
    {
     "name": "stderr",
     "output_type": "stream",
     "text": [
      "                                                                                           \r"
     ]
    },
    {
     "data": {
      "text/html": [
       "<video src=\"media/jupyter/Scale@2023-05-20@16-49-18.mp4\" controls autoplay loop style=\"max-width: 100%;\"  >\n",
       "      Your browser does not support the <code>video</code> element.\n",
       "    </video>"
      ],
      "text/plain": [
       "<IPython.core.display.Video object>"
      ]
     },
     "metadata": {},
     "output_type": "display_data"
    }
   ],
   "source": [
    "%%manim -v WARNING --disable_caching -qm Scale\n",
    "\n",
    "class Scale(Scene):\n",
    "    def construct(self):\n",
    "        \n",
    "        c = Circle()\n",
    "        r = Rectangle()\n",
    "        r.width = 6 \n",
    "        r.height = 4\n",
    "        \n",
    "        self.wait()\n",
    "        self.play(Create(r,run_time=1))\n",
    "        \n",
    "        self.wait()\n",
    "        self.play(r.animate.set(width=4))\n",
    "        self.wait()\n",
    "        \n",
    "        self.play(Create(c,run_time=1))\n",
    "        self.wait()\n",
    "        \n",
    "        self.play(r.animate.match_width(c))\n",
    "        self.wait()\n",
    "        \n",
    "        self.play(r.animate.match_height(c, stretch=True))\n",
    "        self.wait()\n",
    "        \n",
    "        self.play(r.animate.scale(2))\n",
    "        self.wait()\n",
    "        \n",
    "        self.play(r.animate.scale(1/2, about_point=([-4,-3,0])))\n",
    "        self.wait()\n",
    "        \n",
    "        print(r.get_center())\n",
    "        print(r.get_center_of_mass())\n",
    "        \n",
    "        self.play(r.animate.rotate(-30*DEGREES, about_point=[2,2,0]))\n",
    "        self.wait()\n"
   ]
  },
  {
   "cell_type": "code",
   "execution_count": null,
   "metadata": {},
   "outputs": [],
   "source": [
    "%%manim -v WARNING --disable_caching -qm MyScene\n",
    "\n",
    "# The dimentions of manim is 8[u] on horizontal line\n",
    "# and 14,2[u] on the vertical\n",
    "\n",
    "class Moviment(Scene):\n",
    "    def construct(self):\n",
    "        d = Dot()\n",
    "        c = Circle(radius=0.1)\n",
    "        s = Square()\n",
    "        t = Text(\"Hello, world\")\n",
    "        \n",
    "        self.play(Write(t))\n",
    "        \n",
    "        c.next_to(t, LEFT, buff = 0.5, aligned_edge=LEFT)\n",
    "        self.add(c)\n",
    "        self.wait()\n",
    "        \n",
    "        self.play(c.animate.to_edge(UR))"
   ]
  },
  {
   "cell_type": "code",
   "execution_count": 59,
   "metadata": {},
   "outputs": [
    {
     "data": {
      "text/html": [
       "<video src=\"media/jupyter/Objects@2023-05-15@15-42-35.mp4\" controls autoplay loop style=\"max-width: 100%;\"  >\n",
       "      Your browser does not support the <code>video</code> element.\n",
       "    </video>"
      ],
      "text/plain": [
       "<IPython.core.display.Video object>"
      ]
     },
     "metadata": {},
     "output_type": "display_data"
    }
   ],
   "source": [
    "%%manim -v WARNING --disable_caching -qm Objects\n",
    "\n",
    "class Objects(Scene):\n",
    "    def construct(self):\n",
    "        r = Rectangle()\n",
    "        r.width = 6\n",
    "        r.height = 4 \n",
    "        self.add(r)\n",
    "        self.wait()\n",
    "        \n",
    "        r.scale_to_fit_width(4)\n",
    "        r.scale_to_fit_height(4)\n",
    "        self.wait()"
   ]
  },
  {
   "cell_type": "code",
   "execution_count": null,
   "metadata": {},
   "outputs": [],
   "source": [
    "class Pause(Scene):\n",
    "    \n",
    "    def small_pause(self, n = 0.5):\n",
    "        self.wait(n)\n",
    "    \n",
    "    def pause(self, n = 1.5):\n",
    "        self.wait(n)\n",
    "    \n",
    "    def medium_pause(self, n = 3):\n",
    "        self.wait(n)\n",
    "    \n",
    "    def long_pause(self, n = 5):\n",
    "        self.wait(n)"
   ]
  }
 ],
 "metadata": {
  "kernelspec": {
   "display_name": "mce",
   "language": "python",
   "name": "python3"
  },
  "language_info": {
   "codemirror_mode": {
    "name": "ipython",
    "version": 3
   },
   "file_extension": ".py",
   "mimetype": "text/x-python",
   "name": "python",
   "nbconvert_exporter": "python",
   "pygments_lexer": "ipython3",
   "version": "3.10.10"
  },
  "orig_nbformat": 4
 },
 "nbformat": 4,
 "nbformat_minor": 2
}
